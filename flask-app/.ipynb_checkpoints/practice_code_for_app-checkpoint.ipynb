{
 "cells": [
  {
   "cell_type": "code",
   "execution_count": 28,
   "metadata": {},
   "outputs": [],
   "source": [
    "from Getting_addresses_from_pictures import get_coordinates, get_address, get_addresses"
   ]
  },
  {
   "cell_type": "code",
   "execution_count": 29,
   "metadata": {},
   "outputs": [],
   "source": [
    "filepath = 'static/user-photos/house_3.jpg'"
   ]
  },
  {
   "cell_type": "code",
   "execution_count": 30,
   "metadata": {},
   "outputs": [
    {
     "name": "stdout",
     "output_type": "stream",
     "text": [
      "3505 30th St NW, Washington, DC 20008, USA\n",
      "3509 30th St NW, Washington, DC 20008, USA\n",
      "3501-3511 30th St NW, Washington, DC 20008, USA\n",
      "Cleveland Park, Washington, DC, USA\n"
     ]
    }
   ],
   "source": [
    "get_addresses(filepath)"
   ]
  },
  {
   "cell_type": "code",
   "execution_count": 31,
   "metadata": {},
   "outputs": [],
   "source": [
    "from Getting_zillow_information_from_address import get_zillow_info"
   ]
  },
  {
   "cell_type": "code",
   "execution_count": 33,
   "metadata": {},
   "outputs": [
    {
     "name": "stdout",
     "output_type": "stream",
     "text": [
      "http://www.zillow.com/webservice/GetDeepSearchResults.htm?zws-id=X1-ZWz1hg6finlw5n_634pb&address=3502+30th+St+NW&citystatezip=20008\n"
     ]
    },
    {
     "name": "stderr",
     "output_type": "stream",
     "text": [
      "/Users/eileenpalmer/Documents/DSI/Projects/Client-project/flask-app/Getting_zillow_information_from_address.py:39: UserWarning: No parser was explicitly specified, so I'm using the best available XML parser for this system (\"lxml-xml\"). This usually isn't a problem, but if you run this code on another system, or in a different virtual environment, it may use a different parser and behave differently.\n",
      "\n",
      "The code that caused this warning is on line 39 of the file /Users/eileenpalmer/Documents/DSI/Projects/Client-project/flask-app/Getting_zillow_information_from_address.py. To get rid of this warning, pass the additional argument 'features=\"lxml-xml\"' to the BeautifulSoup constructor.\n",
      "\n",
      "  soup = BeautifulSoup(res_z_info.content, ['lxml-xml'])\n",
      "/Users/eileenpalmer/Documents/DSI/Projects/Client-project/flask-app/Getting_zillow_information_from_address.py:97: UserWarning: No parser was explicitly specified, so I'm using the best available XML parser for this system (\"lxml-xml\"). This usually isn't a problem, but if you run this code on another system, or in a different virtual environment, it may use a different parser and behave differently.\n",
      "\n",
      "The code that caused this warning is on line 97 of the file /Users/eileenpalmer/Documents/DSI/Projects/Client-project/flask-app/Getting_zillow_information_from_address.py. To get rid of this warning, pass the additional argument 'features=\"lxml-xml\"' to the BeautifulSoup constructor.\n",
      "\n",
      "  soup = BeautifulSoup(res_z_chart.content, ['lxml-xml'])\n"
     ]
    },
    {
     "data": {
      "text/plain": [
       "{'zpid': '454974',\n",
       " 'current_value': 1085979,\n",
       " 'neighborhood': 'Cleveland Park',\n",
       " 'last_sold': 315000,\n",
       " 'last_sold_date': '08/25/1995',\n",
       " 'property_type': 'SingleFamily',\n",
       " 'year_built': 1927,\n",
       " 'bedrooms': 4,\n",
       " 'bathrooms': 2.5,\n",
       " 'sqft': 1874,\n",
       " 'lot_size': 2253}"
      ]
     },
     "execution_count": 33,
     "metadata": {},
     "output_type": "execute_result"
    }
   ],
   "source": [
    "get_zillow_info('3502 30th St NW', 20008)"
   ]
  },
  {
   "cell_type": "code",
   "execution_count": null,
   "metadata": {},
   "outputs": [],
   "source": []
  }
 ],
 "metadata": {
  "kernelspec": {
   "display_name": "Python [conda env:dsi] *",
   "language": "python",
   "name": "conda-env-dsi-py"
  },
  "language_info": {
   "codemirror_mode": {
    "name": "ipython",
    "version": 3
   },
   "file_extension": ".py",
   "mimetype": "text/x-python",
   "name": "python",
   "nbconvert_exporter": "python",
   "pygments_lexer": "ipython3",
   "version": "3.7.3"
  }
 },
 "nbformat": 4,
 "nbformat_minor": 4
}
